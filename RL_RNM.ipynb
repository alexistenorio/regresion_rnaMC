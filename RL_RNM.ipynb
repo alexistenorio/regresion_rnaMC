{
  "nbformat": 4,
  "nbformat_minor": 0,
  "metadata": {
    "colab": {
      "name": "RL_RNM.ipynb",
      "provenance": []
    },
    "kernelspec": {
      "name": "python3",
      "display_name": "Python 3"
    },
    "language_info": {
      "name": "python"
    }
  },
  "cells": [
    {
      "cell_type": "markdown",
      "metadata": {
        "id": "W13GnopwsEu-"
      },
      "source": [
        "# Clase \"Data\""
      ]
    },
    {
      "cell_type": "code",
      "metadata": {
        "id": "WAmBUQdqsIfX"
      },
      "source": [
        "import torch\n",
        "import numpy as np\n",
        "from torch.utils.data import Dataset, DataLoader\n",
        "from sklearn.preprocessing import StandardScaler\n",
        "class Data(Dataset):\n",
        "  def __init__(self, file, first_col, x_columns):\n",
        "    dataset = np.genfromtxt(file, delimiter=\",\", skip_header=1)\n",
        "    x = dataset[:,first_col:x_columns]\n",
        "    y = dataset[:,x_columns]\n",
        "    self.x=torch.from_numpy(x).type(torch.FloatTensor)\n",
        "    self.y=torch.from_numpy(y).type(torch.FloatTensor).view(self.x.shape[0],1)\n",
        "    self.len=y.shape[0]\n",
        "\n",
        "  def __getitem__(self, index):\n",
        "    return self.x[index],self.y[index]\n",
        "\n",
        "  def __len__(self):\n",
        "    return self.len\n",
        "\n",
        "  def normalizar(self):\n",
        "    std_sc = StandardScaler()\n",
        "    self.x = torch.from_numpy(std_sc.fit_transform(self.x.numpy())).type(torch.FloatTensor)\n",
        "    return\n",
        "\n",
        "  def validacionCruzada(self, indice, particiones):\n",
        "    aux = []\n",
        "    for i in range(len(particiones)):\n",
        "      if i != indice:\n",
        "        aux.append(particiones[i])\n",
        "    dataTrain = torch.utils.data.ConcatDataset(aux)\n",
        "    dataTest = particiones[indice]\n",
        "    return dataTrain,dataTest"
      ],
      "execution_count": null,
      "outputs": []
    },
    {
      "cell_type": "markdown",
      "metadata": {
        "id": "P18cbqnDszHp"
      },
      "source": [
        "# Clase \"Red Neuronal\""
      ]
    },
    {
      "cell_type": "code",
      "metadata": {
        "id": "mD3BJhTfs1g3"
      },
      "source": [
        "from torch import nn\n",
        "import math\n",
        "from sklearn.metrics import confusion_matrix\n",
        "class RedNeuronal(nn.Module):\n",
        "  #se le pasa una lista con las neuronas que contiene cada capa, el primer valor es\n",
        "  #el tamano del vector de entrada\n",
        "  #y el utimo el valor de la salida.\n",
        "  def __init__(self, Layers, ActivationFunct, typeWeights = None ):\n",
        "    super(RedNeuronal,self).__init__()\n",
        "    self.hidden = nn.ModuleList()\n",
        "    for input_size,output_size in zip(Layers,Layers[1:]):\n",
        "      linear = nn.Linear(input_size,output_size)\n",
        "      if typeWeights == \"xavier\":\n",
        "        torch.nn.init.xavier_uniform_(linear.weight)\n",
        "      if typeWeights == \"uniform\":\n",
        "        linear.weight.data.uniform_(0, 1)\n",
        "      self.hidden.append(linear)\n",
        "    self.ActivationF = ActivationFunct\n",
        "\n",
        "  #aplica la red neuronal a unos datos(activation)\n",
        "  def forward(self, activation):\n",
        "    L=len(self.hidden)\n",
        "    for (l,linear_transform) in zip(range(L),self.hidden):\n",
        "      if l<L-1:\n",
        "        activation =self.ActivationF[l](linear_transform (activation))\n",
        "      else:\n",
        "        if len(self.ActivationF) == len(self.hidden):\n",
        "          activation = self.ActivationF[l](linear_transform (activation))\n",
        "        else:\n",
        "          activation =linear_transform (activation)\n",
        "    return activation\n",
        "\n",
        "  #entrenamiento de la red neuronal de varias capas\n",
        "  def train(self, dataTrain, optimizer, criterion, train_loader, epochs=100):\n",
        "    LOSS=[]\n",
        "    min_loss = 10000000000\n",
        "    for epoch in range(epochs):\n",
        "      for x, y in train_loader:\n",
        "        yhat=self(x)\n",
        "        loss=criterion(yhat,y)\n",
        "        optimizer.zero_grad()\n",
        "        loss.backward()\n",
        "        optimizer.step()\n",
        "        if loss.item() < min_loss:\n",
        "          value = epoch\n",
        "          min_loss = loss.item()\n",
        "          torch.save(self.state_dict(), 'best_model.pt')\n",
        "        LOSS.append(loss.item())\n",
        "    return LOSS,value,min_loss\n",
        "\n",
        "  def predict(self, dataTest, criterion):\n",
        "    yhat = self(dataTest[0:-1][0]).detach().numpy()\n",
        "    yhat = np.clip(yhat,5,yhat.max())\n",
        "    yhat = torch.from_numpy(yhat)\n",
        "    loss = criterion(yhat,dataTest[0:-1][1])\n",
        "    return loss.item()\n",
        "  def scoreSigmoid(self, dataTest):\n",
        "    yhat = self(dataTest[0:-1][0])\n",
        "    lable = yhat > 0.5\n",
        "    cm = confusion_matrix(np.array(dataTest[0:-1][1]),lable)\n",
        "    return torch.mean((lable== dataTest[0:-1][1].type(torch.ByteTensor)).type(torch.float)),cm"
      ],
      "execution_count": null,
      "outputs": []
    },
    {
      "cell_type": "markdown",
      "metadata": {
        "id": "g9AQopdAXTbC"
      },
      "source": [
        "# Importar librerías\n"
      ]
    },
    {
      "cell_type": "code",
      "metadata": {
        "id": "pH-HoML8rzt3"
      },
      "source": [
        "import torch.nn.functional as F\n",
        "import numpy as np\n",
        "from torch.utils.data import DataLoader,random_split\n",
        "import matplotlib.pyplot as plt\n",
        "from sklearn.metrics import r2_score"
      ],
      "execution_count": null,
      "outputs": []
    },
    {
      "cell_type": "markdown",
      "metadata": {
        "id": "8ZJHJRsscII8"
      },
      "source": [
        "# Preparar el conjunto de datos"
      ]
    },
    {
      "cell_type": "code",
      "metadata": {
        "colab": {
          "base_uri": "https://localhost:8080/",
          "height": 265
        },
        "id": "uzJoXZ-HuT1Q",
        "outputId": "1ba98ab9-5b90-493a-b10b-eb79d8740603"
      },
      "source": [
        "from google.colab import files\n",
        "#!rm vgsales.csv\n",
        "#!rm vgsales2.csv\n",
        "#uploaded = files.upload()\n",
        "#!ls\n",
        "\n",
        "dataHousing = Data(\"./vgsales2.csv\", 0, 1)\n",
        "dataHousing.normalizar()\n",
        "plt.scatter(dataHousing.x, dataHousing.y)\n",
        "plt.show()"
      ],
      "execution_count": null,
      "outputs": [
        {
          "output_type": "display_data",
          "data": {
            "image/png": "[encoded data removed]",
            "text/plain": [
              "<Figure size 432x288 with 1 Axes>"
            ]
          },
          "metadata": {
            "tags": [],
            "needs_background": "light"
          }
        }
      ]
    },
    {
      "cell_type": "markdown",
      "metadata": {
        "id": "Pmi-FxxTcMyr"
      },
      "source": [
        "# Cargador de Datos"
      ]
    },
    {
      "cell_type": "code",
      "metadata": {
        "id": "6J49IK2Vei5t"
      },
      "source": [
        "torch.manual_seed(1)\n",
        "num_partVC = 43\n",
        "lenVC = int(len(dataHousing)/num_partVC)\n",
        "lengths = ()\n",
        "for i in range(num_partVC):\n",
        "  lengths = lengths + (lenVC,)\n",
        "particiones = random_split(dataHousing, lengths)"
      ],
      "execution_count": null,
      "outputs": []
    },
    {
      "cell_type": "markdown",
      "metadata": {
        "id": "N6dRxYl0cP_S"
      },
      "source": [
        "# Crear la RNA"
      ]
    },
    {
      "cell_type": "code",
      "metadata": {
        "colab": {
          "base_uri": "https://localhost:8080/",
          "height": 568
        },
        "id": "C_2vUdSefb68",
        "outputId": "6f6bc321-690a-4f47-fe8c-afb143ed4d78"
      },
      "source": [
        "#red neuronal profunda\n",
        "#defino el criterio que se va a usar(Mean Square Error) y el optimizador(descenso por gradientte)\n",
        "print(\"Red Neuronal una capa oculta\")\n",
        "ACC=[]\n",
        "r2=[]\n",
        "learning_rate=0.01\n",
        "LAYERS=[1,20,1]\n",
        "ActivationFunctions = [F.relu]\n",
        "criterion=torch.nn.MSELoss()\n",
        "fig, ax = plt.subplots()\n",
        "for i in range(num_partVC):\n",
        "  if i >= 15:\n",
        "    break\n",
        "  dataTrain, dataTest = dataHousing.validacionCruzada(i, particiones)\n",
        "  model = RedNeuronal(LAYERS,ActivationFunctions,\"uniform\")\n",
        "  optimizer=torch.optim.SGD(model.parameters(), lr=learning_rate,weight_decay=0.01)\n",
        "  LOSS=[]\n",
        "  trainLoader = DataLoader(dataset=dataTrain,batch_size=50)\n",
        "  LOSS,epoch,min_loss = model.train(dataHousing,optimizer,criterion,trainLoader,50)\n",
        "  model_best = RedNeuronal(LAYERS,ActivationFunctions)\n",
        "  model_best.load_state_dict(torch.load('best_model.pt'))\n",
        "  ACC.append(model_best.predict(dataTest, criterion))\n",
        "  output = model_best(dataTest[0:-1][0]).detach().numpy()\n",
        "  labels = np.array(dataTest[0:-1][1])\n",
        "  output = np.clip(output,5,50)\n",
        "  ax.scatter(labels, output, color=\"green\")\n",
        "  ax.plot([labels.min(), labels.max()], [labels.min(), labels.max()], 'k--', lw=3)\n",
        "  ax.set_xlabel('Real Values')\n",
        "  ax.set_ylabel('Predicted Values')\n",
        "  r2.append(r2_score(labels,output))\n",
        "  print(\"perdida en iteracion\", i + 1, \":\", ACC[-1],\"r2: \", r2[-1])\n",
        "print(\"perdida media: \", sum(ACC)/num_partVC, \" y r2 medio: \", sum(r2)/num_partVC)\n",
        "plt.show()"
      ],
      "execution_count": null,
      "outputs": [
        {
          "output_type": "stream",
          "text": [
            "Red Neuronal una capa oculta\n",
            "perdida en iteracion 1 : 21.495153427124023 r2:  -23.18212992382078\n",
            "perdida en iteracion 2 : 21.27256965637207 r2:  -15.374086055460332\n",
            "perdida en iteracion 3 : 21.26702308654785 r2:  -11.539606513063559\n",
            "perdida en iteracion 4 : 21.131473541259766 r2:  -7.762987313127496\n",
            "perdida en iteracion 5 : 21.232620239257812 r2:  -9.177500882519395\n",
            "perdida en iteracion 6 : 21.049442291259766 r2:  -19.115846371645908\n",
            "perdida en iteracion 7 : 23.895374298095703 r2:  -4.408829321190002\n",
            "perdida en iteracion 8 : 21.108278274536133 r2:  -3.9538407068585615\n",
            "perdida en iteracion 9 : 21.373363494873047 r2:  -16.668428547105368\n",
            "perdida en iteracion 10 : 21.413270950317383 r2:  -10.385085920315026\n",
            "perdida en iteracion 11 : 21.221786499023438 r2:  -32.87550443198668\n",
            "perdida en iteracion 12 : 21.235361099243164 r2:  -10.623930869704074\n",
            "perdida en iteracion 13 : 21.489364624023438 r2:  -10.811078935998514\n",
            "perdida en iteracion 14 : 21.395700454711914 r2:  -10.579846950315106\n",
            "perdida en iteracion 15 : 21.189186096191406 r2:  -3.6572130130306437\n",
            "perdida media:  7.483022512391556  y r2 medio:  -4.421300366421894\n"
          ],
          "name": "stdout"
        },
        {
          "output_type": "display_data",
          "data": {
            "image/png": "[encoded data removed]",
            "text/plain": [
              "<Figure size 432x288 with 1 Axes>"
            ]
          },
          "metadata": {
            "tags": [],
            "needs_background": "light"
          }
        }
      ]
    }
  ]
}